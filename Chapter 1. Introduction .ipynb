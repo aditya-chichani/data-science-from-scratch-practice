{
 "cells": [
  {
   "cell_type": "code",
   "execution_count": 5,
   "metadata": {},
   "outputs": [],
   "source": [
    "users = [\n",
    "    {\"id\":0, \"name\": \"Hero\"},\n",
    "    {\"id\":1, \"name\": \"Dunn\"},\n",
    "    {\"id\":2, \"name\": \"Sue\"},\n",
    "    {\"id\":3, \"name\": \"Chi\"},\n",
    "    {\"id\":4, \"name\": \"Thor\"},\n",
    "    {\"id\":5, \"name\": \"Clive\"},\n",
    "    {\"id\":6, \"name\": \"Hicks\"},\n",
    "    {\"id\":7, \"name\": \"Kevin\"},\n",
    "    {\"id\":8, \"name\": \"Kate\"},\n",
    "    {\"id\":9, \"name\": \"Klein\"}\n",
    "]"
   ]
  },
  {
   "cell_type": "code",
   "execution_count": 6,
   "metadata": {},
   "outputs": [],
   "source": [
    "friendships = [(0,1),(0,2),(1,2),(1,3),(2,3),(3,4),(4,5),(5,6),(5,7),(6,8),(7,8),(8,9)]"
   ]
  },
  {
   "cell_type": "code",
   "execution_count": 7,
   "metadata": {},
   "outputs": [],
   "source": [
    "for user in users:\n",
    "    user[\"friends\"] = []"
   ]
  },
  {
   "cell_type": "code",
   "execution_count": 8,
   "metadata": {},
   "outputs": [
    {
     "data": {
      "text/plain": [
       "[{'id': 0, 'name': 'Hero', 'friends': []},\n",
       " {'id': 1, 'name': 'Dunn', 'friends': []},\n",
       " {'id': 2, 'name': 'Sue', 'friends': []},\n",
       " {'id': 3, 'name': 'Chi', 'friends': []},\n",
       " {'id': 4, 'name': 'Thor', 'friends': []},\n",
       " {'id': 5, 'name': 'Clive', 'friends': []},\n",
       " {'id': 6, 'name': 'Hicks', 'friends': []},\n",
       " {'id': 7, 'name': 'Kevin', 'friends': []},\n",
       " {'id': 8, 'name': 'Kate', 'friends': []},\n",
       " {'id': 9, 'name': 'Klein', 'friends': []}]"
      ]
     },
     "execution_count": 8,
     "metadata": {},
     "output_type": "execute_result"
    }
   ],
   "source": [
    "users"
   ]
  },
  {
   "cell_type": "code",
   "execution_count": 9,
   "metadata": {},
   "outputs": [],
   "source": [
    "\"\"\"\n",
    "For each user, store all the users who are his friends.\n",
    "\"\"\"\n",
    "for i,j in friendships:\n",
    "    users[i]['friends'].append(j)\n",
    "    users[j]['friends'].append(i)"
   ]
  },
  {
   "cell_type": "code",
   "execution_count": 10,
   "metadata": {},
   "outputs": [
    {
     "data": {
      "text/plain": [
       "[{'id': 0, 'name': 'Hero', 'friends': [1, 2]},\n",
       " {'id': 1, 'name': 'Dunn', 'friends': [0, 2, 3]},\n",
       " {'id': 2, 'name': 'Sue', 'friends': [0, 1, 3]},\n",
       " {'id': 3, 'name': 'Chi', 'friends': [1, 2, 4]},\n",
       " {'id': 4, 'name': 'Thor', 'friends': [3, 5]},\n",
       " {'id': 5, 'name': 'Clive', 'friends': [4, 6, 7]},\n",
       " {'id': 6, 'name': 'Hicks', 'friends': [5, 8]},\n",
       " {'id': 7, 'name': 'Kevin', 'friends': [5, 8]},\n",
       " {'id': 8, 'name': 'Kate', 'friends': [6, 7, 9]},\n",
       " {'id': 9, 'name': 'Klein', 'friends': [8]}]"
      ]
     },
     "execution_count": 10,
     "metadata": {},
     "output_type": "execute_result"
    }
   ],
   "source": [
    "users"
   ]
  },
  {
   "cell_type": "code",
   "execution_count": 11,
   "metadata": {},
   "outputs": [
    {
     "data": {
      "text/plain": [
       "[{'id': 1, 'name': 'Dunn', 'friends': [0, 2, 3]},\n",
       " {'id': 2, 'name': 'Sue', 'friends': [0, 1, 3]},\n",
       " {'id': 3, 'name': 'Chi', 'friends': [1, 2, 4]},\n",
       " {'id': 5, 'name': 'Clive', 'friends': [4, 6, 7]},\n",
       " {'id': 8, 'name': 'Kate', 'friends': [6, 7, 9]},\n",
       " {'id': 0, 'name': 'Hero', 'friends': [1, 2]},\n",
       " {'id': 4, 'name': 'Thor', 'friends': [3, 5]},\n",
       " {'id': 6, 'name': 'Hicks', 'friends': [5, 8]},\n",
       " {'id': 7, 'name': 'Kevin', 'friends': [5, 8]},\n",
       " {'id': 9, 'name': 'Klein', 'friends': [8]}]"
      ]
     },
     "execution_count": 11,
     "metadata": {},
     "output_type": "execute_result"
    }
   ],
   "source": [
    "\"\"\"\n",
    "Sort users on the basis of number of friends they have\n",
    "\n",
    "Note: This is done to identify the most important/\"central\" connections in our network since they would impact \n",
    "our network the most. More on this in Chapter 21\n",
    "\"\"\"\n",
    "sorted(users,key = lambda user: len(user['friends']),reverse = True)"
   ]
  },
  {
   "cell_type": "code",
   "execution_count": 12,
   "metadata": {},
   "outputs": [
    {
     "name": "stdout",
     "output_type": "stream",
     "text": [
      "2.4\n"
     ]
    }
   ],
   "source": [
    "\"\"\"\n",
    "Average number of connections each user has\n",
    "\"\"\"\n",
    "sum = 0\n",
    "for user in users:\n",
    "    sum+=len(user['friends'])\n",
    "print(sum/len(users))"
   ]
  },
  {
   "cell_type": "code",
   "execution_count": 13,
   "metadata": {},
   "outputs": [],
   "source": [
    "\"\"\"\n",
    "For each user, recommend new connections as follows:\n",
    "1) The connection is a friend of the user's friend, is not his connection already, is not the user himself. \n",
    "2) The number of mutual friends the user and connection have already.\n",
    "\"\"\"\n",
    "def populate_suggestions(users,user):\n",
    "    user['suggested_friends']={}\n",
    "    for friend_id in user['friends']:\n",
    "        for users_friends_friend_id in users[friend_id]['friends']:\n",
    "            if users_friends_friend_id not in user['friends'] and users_friends_friend_id!= user['id']:\n",
    "                user['suggested_friends'][users_friends_friend_id]= user['suggested_friends'].get(users_friends_friend_id,0)+1\n",
    "                    \n",
    "for user in users:\n",
    "    populate_suggestions(users,user)"
   ]
  },
  {
   "cell_type": "code",
   "execution_count": 14,
   "metadata": {},
   "outputs": [
    {
     "data": {
      "text/plain": [
       "[{'id': 0, 'name': 'Hero', 'friends': [1, 2], 'suggested_friends': {3: 2}},\n",
       " {'id': 1, 'name': 'Dunn', 'friends': [0, 2, 3], 'suggested_friends': {4: 1}},\n",
       " {'id': 2, 'name': 'Sue', 'friends': [0, 1, 3], 'suggested_friends': {4: 1}},\n",
       " {'id': 3,\n",
       "  'name': 'Chi',\n",
       "  'friends': [1, 2, 4],\n",
       "  'suggested_friends': {0: 2, 5: 1}},\n",
       " {'id': 4,\n",
       "  'name': 'Thor',\n",
       "  'friends': [3, 5],\n",
       "  'suggested_friends': {1: 1, 2: 1, 6: 1, 7: 1}},\n",
       " {'id': 5,\n",
       "  'name': 'Clive',\n",
       "  'friends': [4, 6, 7],\n",
       "  'suggested_friends': {3: 1, 8: 2}},\n",
       " {'id': 6,\n",
       "  'name': 'Hicks',\n",
       "  'friends': [5, 8],\n",
       "  'suggested_friends': {4: 1, 7: 2, 9: 1}},\n",
       " {'id': 7,\n",
       "  'name': 'Kevin',\n",
       "  'friends': [5, 8],\n",
       "  'suggested_friends': {4: 1, 6: 2, 9: 1}},\n",
       " {'id': 8, 'name': 'Kate', 'friends': [6, 7, 9], 'suggested_friends': {5: 2}},\n",
       " {'id': 9, 'name': 'Klein', 'friends': [8], 'suggested_friends': {6: 1, 7: 1}}]"
      ]
     },
     "execution_count": 14,
     "metadata": {},
     "output_type": "execute_result"
    }
   ],
   "source": [
    "users"
   ]
  },
  {
   "cell_type": "code",
   "execution_count": 15,
   "metadata": {},
   "outputs": [],
   "source": [
    "interests = [\n",
    "(0, \"Hadoop\"), (0, \"Big Data\"), (0, \"HBase\"), (0, \"Java\"),(0, \"Spark\"), (0, \"Storm\"), (0, \"Cassandra\"),\n",
    "(1, \"NoSQL\"), (1, \"MongoDB\"), (1, \"Cassandra\"), (1, \"HBase\"),(1, \"Postgres\"), \n",
    "(2, \"Python\"), (2, \"scikit-learn\"), (2, \"scipy\"),(2, \"numpy\"), (2, \"statsmodels\"), (2, \"pandas\"),\n",
    "(3, \"R\"), (3, \"Python\"),(3, \"statistics\"), (3, \"regression\"), (3, \"probability\"),\n",
    "(4, \"machine learning\"), (4, \"regression\"), (4, \"decision trees\"),(4, \"libsvm\"),\n",
    "(5, \"Python\"), (5, \"R\"), (5, \"Java\"), (5, \"C++\"),(5, \"Haskell\"), (5, \"programming languages\"),\n",
    "(6, \"statistics\"),(6, \"probability\"), (6, \"mathematics\"), (6, \"theory\"),\n",
    "(7, \"machine learning\"), (7, \"scikit-learn\"), (7, \"Mahout\"),\n",
    "(7, \"neural networks\"), (8, \"neural networks\"), (8, \"deep learning\"),\n",
    "(8, \"Big Data\"), (8, \"artificial intelligence\"), (9, \"Hadoop\"),\n",
    "(9, \"Java\"), (9, \"MapReduce\"), (9, \"Big Data\")\n",
    "]"
   ]
  },
  {
   "cell_type": "code",
   "execution_count": 16,
   "metadata": {},
   "outputs": [
    {
     "name": "stdout",
     "output_type": "stream",
     "text": [
      "{0: ['Hadoop', 'Big Data', 'HBase', 'Java', 'Spark', 'Storm', 'Cassandra'], 1: ['NoSQL', 'MongoDB', 'Cassandra', 'HBase', 'Postgres'], 2: ['Python', 'scikit-learn', 'scipy', 'numpy', 'statsmodels', 'pandas'], 3: ['R', 'Python', 'statistics', 'regression', 'probability'], 4: ['machine learning', 'regression', 'decision trees', 'libsvm'], 5: ['Python', 'R', 'Java', 'C++', 'Haskell', 'programming languages'], 6: ['statistics', 'probability', 'mathematics', 'theory'], 7: ['machine learning', 'scikit-learn', 'Mahout', 'neural networks'], 8: ['neural networks', 'deep learning', 'Big Data', 'artificial intelligence'], 9: ['Hadoop', 'Java', 'MapReduce', 'Big Data']}\n"
     ]
    }
   ],
   "source": [
    "\"\"\"\n",
    "For each user id as a key, populate all his interests together as a list\n",
    "\"\"\"\n",
    "# user_interests  = {}\n",
    "# for user_id,interest in interests:\n",
    "#     lst = user_interests.get(user_id,[])\n",
    "#     lst.append(interest)\n",
    "#     user_interests[user_id] = lst\n",
    "# print(user_interests)\n",
    "\n",
    "# Another way to achieve the above thing: \n",
    "# NOTE: Alternatively defaultdict from collections can also be used here.\n",
    "user_interests  = {}\n",
    "for user_id,interest in interests:\n",
    "    user_interests.setdefault(user_id,[]).append(interest)\n",
    "print(user_interests)\n",
    "\n"
   ]
  },
  {
   "cell_type": "code",
   "execution_count": 17,
   "metadata": {},
   "outputs": [
    {
     "name": "stdout",
     "output_type": "stream",
     "text": [
      "defaultdict(<class 'list'>, {'Hadoop': [0, 9], 'Big Data': [0, 8, 9], 'HBase': [0, 1], 'Java': [0, 5, 9], 'Spark': [0], 'Storm': [0], 'Cassandra': [0, 1], 'NoSQL': [1], 'MongoDB': [1], 'Postgres': [1], 'Python': [2, 3, 5], 'scikit-learn': [2, 7], 'scipy': [2], 'numpy': [2], 'statsmodels': [2], 'pandas': [2], 'R': [3, 5], 'statistics': [3, 6], 'regression': [3, 4], 'probability': [3, 6], 'machine learning': [4, 7], 'decision trees': [4], 'libsvm': [4], 'C++': [5], 'Haskell': [5], 'programming languages': [5], 'mathematics': [6], 'theory': [6], 'Mahout': [7], 'neural networks': [7, 8], 'deep learning': [8], 'artificial intelligence': [8], 'MapReduce': [9]})\n"
     ]
    }
   ],
   "source": [
    "\"\"\"\n",
    "For each interest as a key, populate all the users as a list who have that interest.\n",
    "\"\"\"\n",
    "from collections import defaultdict\n",
    "\n",
    "# NOTE: fetching value using get instead of [] indexing will return None instead of the default value (Empty list in this case).\n",
    "# To understand why: https://docs.python.org/3.3/library/collections.html#collections.defaultdict\n",
    "\n",
    "interest_users = defaultdict(list)\n",
    "for user_id,interest in interests:\n",
    "    interest_users[interest].append(user_id)\n",
    "print(interest_users)"
   ]
  },
  {
   "cell_type": "code",
   "execution_count": 19,
   "metadata": {},
   "outputs": [
    {
     "name": "stdout",
     "output_type": "stream",
     "text": [
      "{0: [9], 1: [0], 2: [3, 5, 7], 3: [5, 6], 4: [3, 7], 5: [3], 6: [3], 7: [2, 4, 8], 8: [0, 7, 9], 9: [0]}\n"
     ]
    }
   ],
   "source": [
    "\"\"\"\n",
    "For each user - find the user who shares maximum no. of common interests with him.\n",
    "\n",
    "Note: We are trying to build a correlation matrix which will help us build a \"Data Scientists You May Know\" \n",
    "kind of recommendation system based on the similarity between their interests.\n",
    "\n",
    "More on this in Chapter 22\n",
    "\"\"\"\n",
    "def count(user1,user2,user_interests):\n",
    "    return len(set(user_interests[user1]).intersection(set(user_interests[user2])))\n",
    "\n",
    "user_bff = {}\n",
    "for user1 in user_interests:\n",
    "    max_ = 0\n",
    "    user_bff[user1] = []\n",
    "    for user2 in user_interests:\n",
    "        if(user2!=user1):\n",
    "            common_interests = count(user1,user2,user_interests)\n",
    "            if common_interests > max_:\n",
    "                user_bff[user1] = []\n",
    "                user_bff[user1].append(user2)\n",
    "                max_ = common_interests\n",
    "            elif common_interests == max_ and max_!=0:\n",
    "                user_bff[user1].append(user2)\n",
    "\n",
    "print(user_bff)            "
   ]
  },
  {
   "cell_type": "code",
   "execution_count": 21,
   "metadata": {},
   "outputs": [],
   "source": [
    "\"\"\"\n",
    "Anonymized salary data which contains salary (in dollars) and tenure (in years) of data scientists\n",
    "\"\"\"\n",
    "\n",
    "salaries_and_tenures = [(83000, 8.7), (88000, 8.1),\n",
    "(48000, 0.7), (76000, 6),\n",
    "(69000, 6.5), (76000, 7.5),\n",
    "(60000, 2.5), (83000, 10),\n",
    "(48000, 1.9), (63000, 4.2)]"
   ]
  },
  {
   "cell_type": "code",
   "execution_count": 24,
   "metadata": {},
   "outputs": [
    {
     "name": "stdout",
     "output_type": "stream",
     "text": [
      "[48000.0, 61500.0, 79166.66666666667]\n"
     ]
    }
   ],
   "source": [
    "\"\"\"\n",
    "Compute the average salary of data scientists by dividing them in the following categories:\n",
    "1) <2 years of experience\n",
    "2) 2-5 years of experience\n",
    "3) 5+ years of experience\n",
    "\n",
    "Note: \n",
    "1) Here we arbitrarily created the categories, properly making the categories which show a specific behaviour would be solved by \n",
    "clustering techniques. More on this in Chapter 14.\n",
    "2) Understanding the distribution of salary w.r.t experience can also be done with the help of data visualization. \n",
    "More on this in Chapter 3\n",
    "\"\"\"\n",
    "sums = [0,0,0]\n",
    "n = [0,0,0]\n",
    "avg = []\n",
    "for salary,tenure in salaries_and_tenures:\n",
    "    index = 1\n",
    "    if tenure < 2:\n",
    "        index = 0\n",
    "    elif tenure > 5:\n",
    "        index = 2\n",
    "    sums[index]+=salary\n",
    "    n[index]+=1\n",
    "\n",
    "for i in range(3):\n",
    "    if(n[i]==0):\n",
    "        avg.append(0)\n",
    "    else:\n",
    "        avg.append(sums[i]/n[i])\n",
    "\n",
    "print(avg)    "
   ]
  },
  {
   "cell_type": "code",
   "execution_count": 27,
   "metadata": {},
   "outputs": [],
   "source": [
    "accounts = {\"0.7\": \"paid\",\n",
    "\"1.9\": \"unpaid\",\n",
    "\"2.5\": \"paid\",\n",
    "\"4.2\": \"unpaid\",\n",
    "\"6\": \"unpaid\",\n",
    "\"6.5\": \"unpaid\",\n",
    "\"7.5\": \"unpaid\",\n",
    "\"8.1\": \"unpaid\",\n",
    "\"8.7\": \"paid\",\n",
    "\"10\" : \"paid\"}"
   ]
  },
  {
   "cell_type": "code",
   "execution_count": 29,
   "metadata": {},
   "outputs": [],
   "source": [
    "\"\"\"\n",
    "From data related to tenure of a data scienist and the type of account he owns, create a basic function that tries to predict\n",
    "the likelihood that the data scientist will opt for a paid account on the basis of his tenure.\n",
    "\n",
    "A better version of this can be generated using regression techniques. More on this in Chapter 16.\n",
    "\"\"\"\n",
    "\n",
    "def predict_paid_or_unpaid(years_experience):\n",
    "    if years_experience < 3.0 or years_experience > 8.5 :\n",
    "        return \"paid\"\n",
    "    else:\n",
    "        return \"unpaid\""
   ]
  },
  {
   "cell_type": "code",
   "execution_count": 31,
   "metadata": {},
   "outputs": [
    {
     "name": "stdout",
     "output_type": "stream",
     "text": [
      "{'Hadoop': 2, 'Big Data': 3, 'HBase': 2, 'Java': 3, 'Spark': 1, 'Storm': 1, 'Cassandra': 2, 'NoSQL': 1, 'MongoDB': 1, 'Postgres': 1, 'Python': 3, 'scikit-learn': 2, 'scipy': 1, 'numpy': 1, 'statsmodels': 1, 'pandas': 1, 'R': 2, 'statistics': 2, 'regression': 2, 'probability': 2, 'machine learning': 2, 'decision trees': 1, 'libsvm': 1, 'C++': 1, 'Haskell': 1, 'programming languages': 1, 'mathematics': 1, 'theory': 1, 'Mahout': 1, 'neural networks': 2, 'deep learning': 1, 'artificial intelligence': 1, 'MapReduce': 1}\n"
     ]
    }
   ],
   "source": [
    "\"\"\"\n",
    "Blogger wants to know the topics that interest most data scientists.\n",
    "For each topic, find the total no. of users who have listed it as their interest.\n",
    "\n",
    "Usually the keys here i.e interests will not be so easy to extract. For example, in real life, \"machine learning\" \n",
    "might have been listed as an interest by users in atleast the following ways:\n",
    "1) \"ML\"\n",
    "2) \"Machine Learning\"\n",
    "3) \"Machine learning\"\n",
    "4) \"machine learning\"\n",
    "5) \"ml\"\n",
    "\n",
    "The model would therefore have to do complicated operations in order to extract and transform the data. \n",
    "More on this in Chapter 20. \n",
    "\"\"\"\n",
    "interest_users_counts = {}\n",
    "for interest,users in interest_users.items():\n",
    "    interest_users_counts[interest] = len(users)\n",
    "print(interest_users_counts)"
   ]
  }
 ],
 "metadata": {
  "kernelspec": {
   "display_name": "Python 3",
   "language": "python",
   "name": "python3"
  },
  "language_info": {
   "codemirror_mode": {
    "name": "ipython",
    "version": 3
   },
   "file_extension": ".py",
   "mimetype": "text/x-python",
   "name": "python",
   "nbconvert_exporter": "python",
   "pygments_lexer": "ipython3",
   "version": "3.7.4"
  }
 },
 "nbformat": 4,
 "nbformat_minor": 2
}
