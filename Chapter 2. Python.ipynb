{
 "cells": [
  {
   "cell_type": "code",
   "execution_count": 1,
   "metadata": {},
   "outputs": [],
   "source": [
    "x = [1,2,3]\n",
    "y = [\"a\",\"b\",\"c\"]"
   ]
  },
  {
   "cell_type": "code",
   "execution_count": 2,
   "metadata": {},
   "outputs": [],
   "source": [
    "x.append(y) # Adds to original list\n",
    "z = x + y # Creates a new list and assigns to z\n"
   ]
  },
  {
   "cell_type": "code",
   "execution_count": 3,
   "metadata": {},
   "outputs": [
    {
     "data": {
      "text/plain": [
       "[1, 2, 3, ['a', 'b', 'c']]"
      ]
     },
     "execution_count": 3,
     "metadata": {},
     "output_type": "execute_result"
    }
   ],
   "source": [
    "x"
   ]
  },
  {
   "cell_type": "code",
   "execution_count": 4,
   "metadata": {},
   "outputs": [
    {
     "name": "stdout",
     "output_type": "stream",
     "text": [
      "Tuples are immutable\n"
     ]
    }
   ],
   "source": [
    "try:\n",
    "    tuple_ = (1,2)\n",
    "    tuple_[1] = 3\n",
    "except:\n",
    "    print(\"Tuples are immutable\")"
   ]
  },
  {
   "cell_type": "code",
   "execution_count": 5,
   "metadata": {},
   "outputs": [
    {
     "name": "stdout",
     "output_type": "stream",
     "text": [
      "Key does not exist!\n",
      "None\n",
      "0\n",
      "----------------------------------------------------------\n",
      "dict_keys(['A', 'B', 1])\n",
      "----------------------------------------------------------\n",
      "dict_values([20, '30', 'Joey'])\n",
      "----------------------------------------------------------\n",
      "dict_items([('A', 20), ('B', '30'), (1, 'Joey')])\n"
     ]
    }
   ],
   "source": [
    "# Dictionary\n",
    "\n",
    "d = {}\n",
    "d = {\"A\": 20, \"B\": \"30\", 1: \"Joey\"}  # Keys must be immutable\n",
    "d[\"A\"] #Returns 20\n",
    "try:\n",
    "    d[\"C\"]  #Throws KeyError\n",
    "except KeyError:\n",
    "    print(\"Key does not exist!\")\n",
    "print(d.get(\"C\")) # Returns the value if it exists. If not then catches the KeyError and returns None by default\n",
    "print(d.get(\"C\",0)) #Takes a second parameter which is the deault value to be returned in case the key does not exist \n",
    "print(\"----------------------------------------------------------\");\n",
    "print(d.keys())\n",
    "print(\"----------------------------------------------------------\");\n",
    "print(d.values())\n",
    "print(\"----------------------------------------------------------\");\n",
    "print(d.items())\n",
    "\n",
    "value  = d.setdefault(\"D\",[]) # If D is present, then will return its value. If not, will set the default value provided ([] in this case) and return that. "
   ]
  },
  {
   "cell_type": "code",
   "execution_count": null,
   "metadata": {},
   "outputs": [],
   "source": []
  },
  {
   "cell_type": "code",
   "execution_count": 11,
   "metadata": {},
   "outputs": [
    {
     "name": "stdout",
     "output_type": "stream",
     "text": [
      "Get returned None and None cannot be appended with an item!\n",
      "defaultdict(<class 'list'>, {'yolo': [1]})\n",
      "Key does not exist\n",
      "0 is not a callable!\n",
      "0\n",
      "1\n"
     ]
    }
   ],
   "source": [
    "# Collections module - defaultdict - is a subclass of dict\n",
    "from collections import defaultdict\n",
    "dd_list = defaultdict(list)\n",
    "try:\n",
    "    dd_list.get(\"yolo\").append(1) # With defaultdict, get behaviour remains same, accessing element directly using square brackets changes.\n",
    "except:\n",
    "    print(\"Get returned None and None cannot be appended with an item!\")\n",
    "    dd_list[\"yolo\"].append(1)\n",
    "print(dd_list)\n",
    "\n",
    "h = defaultdict() # If defaultfactory is not passed, then it behaves as a normal dictionary.\n",
    "try:\n",
    "    h[\"o\"]\n",
    "except KeyError:\n",
    "    print(\"Key does not exist\")\n",
    "    \n",
    "    \n",
    "# Note: default-factory must be a callable. The callable must not take any argument and return something:\n",
    "try:\n",
    "    a = defaultdict(0)\n",
    "except:\n",
    "    print(\"0 is not a callable!\")\n",
    "\n",
    "b = defaultdict(lambda : 0)\n",
    "print(b[\"Sdf\"])\n",
    "def myfunc():\n",
    "    return 1\n",
    "c = defaultdict(myfunc)\n",
    "print(c[\"ert\"])"
   ]
  }
 ],
 "metadata": {
  "kernelspec": {
   "display_name": "Python 3",
   "language": "python",
   "name": "python3"
  },
  "language_info": {
   "codemirror_mode": {
    "name": "ipython",
    "version": 3
   },
   "file_extension": ".py",
   "mimetype": "text/x-python",
   "name": "python",
   "nbconvert_exporter": "python",
   "pygments_lexer": "ipython3",
   "version": "3.7.4"
  }
 },
 "nbformat": 4,
 "nbformat_minor": 2
}
